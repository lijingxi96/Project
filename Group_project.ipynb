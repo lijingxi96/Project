{
 "cells": [
  {
   "cell_type": "markdown",
   "metadata": {},
   "source": [
    "# OOP Version\n"
   ]
  },
  {
   "cell_type": "code",
   "execution_count": 25,
   "metadata": {},
   "outputs": [],
   "source": [
    "import requests\n",
    "from bs4 import BeautifulSoup\n",
    "import pandas as pd\n",
    "import numpy as np\n",
    "import re\n",
    "import folium\n",
    "import json\n",
    "import matplotlib.pyplot as plt\n",
    "import seaborn as sns"
   ]
  },
  {
   "cell_type": "markdown",
   "metadata": {},
   "source": [
    "<h2> Define Functions"
   ]
  },
  {
   "cell_type": "markdown",
   "metadata": {},
   "source": [
    "<h3>Web Scraping housing information"
   ]
  },
  {
   "cell_type": "code",
   "execution_count": 8,
   "metadata": {},
   "outputs": [],
   "source": [
    "# scrape listing info\n",
    "def get_housings(url): \n",
    "    housings_list = list()\n",
    "    import requests\n",
    "    from bs4 import BeautifulSoup\n",
    "    # Request for home page of NY housing info\n",
    "    try:\n",
    "        results_page = requests.get(url)\n",
    "    except:\n",
    "        return None\n",
    "    try:\n",
    "        soup = BeautifulSoup(results_page.content,'lxml')\n",
    "    except:\n",
    "        return None\n",
    "    # Get all the feature housings and bold housings on the first page\n",
    "    feature_housings = soup.find_all('article',class_='panel-listing-result listing-featured ')\n",
    "    for housing in feature_housings:\n",
    "        if housing.find('a'):\n",
    "            detail_dict = dict()\n",
    "            name = housing.find('h1').get_text()\n",
    "            size = housing.find('div', class_='pricingInfo').find('em',class_=\"shortDescription\").get_text()\n",
    "            location = housing.find('div', class_='pricingInfo').find('em',class_=\"shortDescription\").find('span', class_='listingLocation').get_text()\n",
    "            detail_dict['Short_description'] = name\n",
    "            # Split the room size and the location and store only size\n",
    "            for i in range(1,len(size)):\n",
    "                if size[i].isupper(): \n",
    "                    position = i\n",
    "                    break\n",
    "            detail_dict['Size'] = size[:position]\n",
    "            detail_dict['Location'] = location\n",
    "            link = 'https://www.spareroom.co.uk' + housing.find('a').get('href')\n",
    "            housings_list.append([detail_dict,link])\n",
    "    # Second Type of housing\n",
    "    all_housings = soup.find_all('article', class_='panel-listing-result listing-bold ')\n",
    "    for housing in all_housings:\n",
    "        if housing.find('a'):\n",
    "            detail_dict = dict()\n",
    "            name = housing.find('h1').get_text()\n",
    "            size = housing.find('div', class_='pricingInfo').find('em',class_=\"shortDescription\").get_text()\n",
    "            location = housing.find('div', class_='pricingInfo').find('em',class_=\"shortDescription\").find('span', class_='listingLocation').get_text()\n",
    "            detail_dict['Short_description'] = name\n",
    "            # Split the room size and the location and store only size\n",
    "            for i in range(1,len(size)):\n",
    "                if size[i].isupper(): \n",
    "                    position = i\n",
    "                    break\n",
    "            detail_dict['Size'] = size[:position]\n",
    "            detail_dict['Location'] = location\n",
    "            link = 'https://www.spareroom.co.uk' + housing.find('a').get('href')\n",
    "            housings_list.append([detail_dict,link])\n",
    "    # Third type of housing:\n",
    "    early_bird_housings = soup.find_all('article', class_='panel-listing-result listing-free ')\n",
    "    for housing in early_bird_housings:\n",
    "        if housing.find('a'):\n",
    "            detail_dict = dict()\n",
    "            name = housing.find('h1').get_text()\n",
    "            size = housing.find('div', class_='pricingInfo').find('em',class_=\"shortDescription\").get_text()\n",
    "            detail_dict['Short_description'] = name\n",
    "            location = housing.find('div', class_='pricingInfo').find('em',class_=\"shortDescription\").find('span', class_='listingLocation').get_text()\n",
    "            # Split the room size and the location and store only size\n",
    "            for i in range(1,len(size)):\n",
    "                if size[i].isupper(): \n",
    "                    position = i\n",
    "                    break\n",
    "            detail_dict['Size'] = size[:position]\n",
    "            detail_dict['Location'] = location\n",
    "            link = 'https://www.spareroom.co.uk' + housing.find('a').get('href')\n",
    "            housings_list.append([detail_dict,link])\n",
    "#     Turn to next page and get more housings\n",
    "    if soup.find('ul',class_='navnext'):\n",
    "        if soup.find('ul',class_='navnext').find('a'):\n",
    "            next_page_token = soup.find('ul',class_='navnext').find('a').get('href')\n",
    "            next_page = 'https://www.spareroom.co.uk/flatshare/' + next_page_token\n",
    "        # Use recursion to get all the attractions    \n",
    "            housings_list.extend(get_housings(next_page))\n",
    "    return housings_list"
   ]
  },
  {
   "cell_type": "code",
   "execution_count": 9,
   "metadata": {},
   "outputs": [],
   "source": [
    "# scraping detailed info\n",
    "def get_details(list_leeds):\n",
    "    count = 0 \n",
    "    full_dict = dict()\n",
    "    for dict_info, link in list_leeds:\n",
    "        import requests\n",
    "        from bs4 import BeautifulSoup\n",
    "        # Request for details of each housing in NY\n",
    "        try:\n",
    "            results_page = requests.get(link)\n",
    "        except:\n",
    "            continue\n",
    "        try:\n",
    "            soup = BeautifulSoup(results_page.content,'lxml')\n",
    "        except:\n",
    "            continue\n",
    "        # Get housing price for each room \n",
    "        price_list = list()\n",
    "        if soup.find('ul', class_='room-list'): \n",
    "            prices = soup.find('ul', class_='room-list')\n",
    "            price = prices.find_all('strong', class_='room-list__price')\n",
    "            for price_i in price:\n",
    "                price_list.append(price_i.get_text())\n",
    "        if not price_list:\n",
    "            if soup.find('section', class_='feature feature--price-whole-property'):\n",
    "                price = soup.find('h3', class_='feature__heading')\n",
    "                price_list.append(price.get_text())\n",
    "        # Clean the data to remove 'Availability' in the price list\n",
    "        if 'Availability' in price_list:\n",
    "            price_list.remove('Availability')\n",
    "        dict_info['Price'] = price_list\n",
    "        # Get Availability for each housing\n",
    "        avail = soup.find('section', class_='feature feature--availability')\n",
    "        if avail:\n",
    "            all_info_avail = avail.find_all('dd', class_='feature-list__value')\n",
    "            availablility = all_info_avail[0].get_text()      \n",
    "            min_period = all_info_avail[1].get_text()      \n",
    "            max_period = all_info_avail[2].get_text() \n",
    "            dict_info['Availablility'] = availablility\n",
    "            dict_info['Min_period'] = min_period\n",
    "            dict_info['Max_period'] = max_period\n",
    "        # Get Amenities info for each housing\n",
    "        amenities = soup.find('section', class_='feature feature--amenities')\n",
    "        if amenities:\n",
    "            all_info_amenities = amenities.find_all('dd', class_='feature-list__value')\n",
    "            if all_info_amenities:\n",
    "                furnish = all_info_amenities[0].get_text()\n",
    "                dict_info['Furnishing'] = furnish\n",
    "        else:\n",
    "            dict_info['Furnishing'] = 'No info'\n",
    "        # Female/Male requirement\n",
    "        preference = soup.find('section', class_='feature feature--household-preferences')\n",
    "        if preference:\n",
    "            preference_info = preference.find_all('dt', class_='feature-list__key')\n",
    "            preference_detail = preference.find_all('dd', class_='feature-list__value')\n",
    "            if preference_info and preference_detail:\n",
    "                for info in preference_info:\n",
    "                    if info.get_text() == 'Gender':\n",
    "                        info_index = preference_info.index(info)\n",
    "                        break\n",
    "                try:\n",
    "                    gender = preference_detail[info_index].get_text() \n",
    "                    dict_info['Gender_requirement'] = gender\n",
    "                except:\n",
    "                    dict_info['Gender_requirement'] = 'No info'\n",
    "        full_dict[count] = dict_info\n",
    "        count = count + 1\n",
    "#     return price_list\n",
    "    return full_dict"
   ]
  },
  {
   "cell_type": "markdown",
   "metadata": {},
   "source": [
    "### Data Clean"
   ]
  },
  {
   "cell_type": "code",
   "execution_count": 10,
   "metadata": {},
   "outputs": [],
   "source": [
    "def clean(dict_):\n",
    "    for key in dict_.keys():\n",
    "        for subkey in dict_[key].keys():\n",
    "            if isinstance(dict_[key][subkey], str):\n",
    "                dict_[key][subkey] = dict_[key][subkey].lstrip().rstrip()\n",
    "    # Clean the price list\n",
    "    for key in dict_.keys():\n",
    "        list_in = list()\n",
    "        for item in list(dict_[key]['Price']):\n",
    "            list_in.append(item.strip('\\n'))\n",
    "        dict_[key]['Price'] = list_in\n",
    "        \n",
    "    df_info = pd.DataFrame(dict_)\n",
    "    df_info = df_info.T\n",
    "\n",
    "    # Fix furnished problem\n",
    "    for i in df_info.index:\n",
    "        if df_info.iloc[i]['Furnishing'] in ['Furnished', 'Part Furnished', 'Unfurnished']:\n",
    "            pass\n",
    "        else:\n",
    "            df_info.iloc[i]['Furnishing'] = 'No info'\n",
    "    # Fix Gender_requirement problem\n",
    "    for i in df_info.index:\n",
    "        if df_info.iloc[i]['Gender_requirement'] in ['Males or females', 'Female preferred', 'No info','Male preferred']:\n",
    "            pass\n",
    "        else:\n",
    "            df_info.iloc[i]['Gender_requirement'] = 'No info'\n",
    "    # Create a new col in df_info to store average price for a single person\n",
    "    pattern = r'\\d+'  \n",
    "    price_per_month = list()\n",
    "\n",
    "    for i in df_info.index:\n",
    "        list_in_price = list()\n",
    "        for item in df_info.iloc[i]['Price']:\n",
    "            item = item.replace(',', '')\n",
    "            if 'pw' in item:\n",
    "                price_info = int((re.findall(pattern, item))[0])\n",
    "                list_in_price.append(price_info*4)\n",
    "            if 'pcm' in item:\n",
    "                price_info = int((re.findall(pattern, item))[0])\n",
    "                list_in_price.append(price_info)\n",
    "        price_per_month.append(list_in_price)\n",
    "    price_per_month = np.array(price_per_month)\n",
    "    df_info['Price_per_month'] = price_per_month\n",
    "    list_avg_price = list()\n",
    "    for i in df_info.index:\n",
    "        list_avg_price.append(np.mean(df_info.iloc[i]['Price_per_month']) )\n",
    "    df_info['Average_price_per_month'] = np.array(list_avg_price)\n",
    "    # Create a new col in df_info to store zip code for each housing\n",
    "    # Create a new col for zip code\n",
    "    list_pos = list()\n",
    "    for i in df_info.index:\n",
    "        for s in df_info.iloc[i]['Location']:\n",
    "            if s == '(':\n",
    "                position = df_info.iloc[i]['Location'].index(s)\n",
    "                break\n",
    "        list_pos.append(df_info.iloc[i]['Location'][position:].strip('(').strip(')'))\n",
    "    df_info['Postal_code'] = np.array(list_pos)\n",
    "    return df_info"
   ]
  },
  {
   "cell_type": "markdown",
   "metadata": {},
   "source": [
    "### Data Visualization"
   ]
  },
  {
   "cell_type": "code",
   "execution_count": 11,
   "metadata": {},
   "outputs": [],
   "source": [
    "%matplotlib inline\n",
    "plt.style.use('seaborn')"
   ]
  },
  {
   "cell_type": "code",
   "execution_count": 12,
   "metadata": {},
   "outputs": [],
   "source": [
    "# a function to use google api to get the lat and lng for a location\n",
    "def get_lat_lng(address_string,api_key):\n",
    "    url=f\"https://maps.googleapis.com/maps/api/geocode/json?address={address_string}&key={api_key}\" \n",
    "    import requests\n",
    "    response = requests.get(url)\n",
    "    if response.status_code != 200:\n",
    "        print('Something went wrong about requests due to internet problem or typing error.')\n",
    "    else:\n",
    "        try:\n",
    "            response_ = response.json()\n",
    "        except:\n",
    "            print(\"Sth wrong with json decoding process\")\n",
    "        return [response_['results'][0]['geometry']['location']['lat'],response_['results'][0]['geometry']['location']['lng']]"
   ]
  },
  {
   "cell_type": "code",
   "execution_count": 13,
   "metadata": {},
   "outputs": [],
   "source": [
    "# input data should be df_info.groupy().size() \n",
    "def plot_bar(data, title, figsize=(6,4), sort = False):\n",
    "    if sort:\n",
    "        data.sort_values(ascending=False).plot(kind='bar', title=title, figsize = figsize)\n",
    "    else:\n",
    "        data.plot(kind='bar', title=title, figsize = figsize)"
   ]
  },
  {
   "cell_type": "code",
   "execution_count": 14,
   "metadata": {},
   "outputs": [],
   "source": [
    "# input data should be df_info.groupy().size() \n",
    "def plot_pie(data, title, figsize=(6,4)):\n",
    "    label = data.index\n",
    "    fig1, ax1 = plt.subplots(figsize=figsize)\n",
    "    ax1.pie(data, labels = label, autopct='%1.1f%%', startangle=90)\n",
    "    ax1.axis('equal')  # Equal aspect ratio ensures that pie is drawn as a circle.\n",
    "    plt.title(title, fontsize=15, fontweight='bold')\n",
    "    plt.legend()\n",
    "    plt.show()"
   ]
  },
  {
   "cell_type": "code",
   "execution_count": 15,
   "metadata": {},
   "outputs": [],
   "source": [
    "def distplot(data,array):\n",
    "    array = data['Average_price_per_month'].astype('int')\n",
    "    return sns.distplot(array)"
   ]
  },
  {
   "cell_type": "code",
   "execution_count": 16,
   "metadata": {},
   "outputs": [],
   "source": [
    "def heatmap(df_info, location, kind, api_key=False):\n",
    "    zip_groups = df_info.groupby('Postal_code')\n",
    "    sizes = zip_groups.size()\n",
    "    sizes = sizes.rename(\"size\")\n",
    "    avg_price = zip_groups.Average_price_per_month.mean()\n",
    "    info_group_by_zip = pd.concat([sizes, avg_price], axis = 1)\n",
    "    info_group_by_zip['zip'] = info_group_by_zip.index\n",
    "    \n",
    "    # read the geojson file and get all the postcode\n",
    "    filename = location.lower() + '_postcodes.geojson'\n",
    "    with open(filename,'r') as load_f: \n",
    "        geojson = json.load(load_f)\n",
    "\n",
    "    # drop zip zone that we don't have data in geojson\n",
    "    geojson['features'] = [item for item in geojson['features'] if item['properties']['Name'] in info_group_by_zip.index]\n",
    "    \n",
    "    # set each city's center location\n",
    "    center = {}\n",
    "    if api_key:\n",
    "        center[location] = get_lat_lng(location,api_key)\n",
    "    else:\n",
    "        center['Manchester'] = [53.483959, -2.244644]\n",
    "        center['London'] = [51.5074, 0.1278]\n",
    "        center['Liverpool'] = [53.3, -3]\n",
    "        center['Leeds'] = [53.8008, 1.5491]\n",
    "    \n",
    "    if kind == 'size':\n",
    "        m = folium.Map(location = center[location], zoom_start=10) ####\n",
    "        m.choropleth(geo_data=geojson, data=info_group_by_zip, \n",
    "                     columns=['zip','size'],\n",
    "                     key_on='feature.properties.Name',\n",
    "                     fill_color='YlGn', fill_opacity=0.7, line_opacity=0.8,\n",
    "                     legend_name='the number of housings')\n",
    "        folium.LayerControl().add_to(m)\n",
    "        return m\n",
    "    \n",
    "    if kind == 'price':\n",
    "        m = folium.Map(location = center[location], zoom_start=10) ###\n",
    "        m.choropleth(geo_data=geojson, data=info_group_by_zip, \n",
    "                     columns=['zip','Average_price_per_month'],\n",
    "                     key_on='feature.properties.Name',\n",
    "                     fill_color='YlGn', fill_opacity=0.7, line_opacity=0.8,\n",
    "                     legend_name='average housing price')\n",
    "        return m"
   ]
  },
  {
   "cell_type": "code",
   "execution_count": 17,
   "metadata": {},
   "outputs": [],
   "source": [
    "# Group the average price\n",
    "def GroupColFunc(df, ind, col):\n",
    "        if df[col].loc[ind] < 500:\n",
    "            return 'Lower than 500'\n",
    "        elif 1000 > df[col].loc[ind] >= 500:\n",
    "            return 'Between 500 and 1000'\n",
    "        elif 1500 > df[col].loc[ind] >= 1000:\n",
    "            return 'Between 1000 and 1500'\n",
    "        else:\n",
    "            return 'Above 1500'\n",
    "        \n",
    "def avg_price_groups(df):\n",
    "    avg_price_group = df.groupby(lambda x: GroupColFunc(df, x, 'Average_price_per_month')) \n",
    "    return avg_price_group.size().plot(kind='bar', title='Housing average price')"
   ]
  },
  {
   "cell_type": "code",
   "execution_count": 18,
   "metadata": {},
   "outputs": [],
   "source": [
    "# Group by average price and another group\n",
    "def two_group_analysis(df, col):\n",
    "    # Add a col of average price group for further analysis\n",
    "    avg_price_list = list()\n",
    "    for i in df.index:\n",
    "        avg_price_list.append(GroupColFunc(df, i, 'Average_price_per_month'))\n",
    "    df['Avg_price_group'] = np.array(avg_price_list)\n",
    "    col_avg_groups = df.groupby([col,'Avg_price_group']).size().unstack()\n",
    "    COL_NUM = 2\n",
    "    ROW_NUM = 2\n",
    "    import matplotlib.pyplot as plt\n",
    "    fig, axes = plt.subplots(ROW_NUM, COL_NUM, figsize=(12,12))\n",
    "\n",
    "    for i, (avg, col) in enumerate(col_avg_groups.items()): \n",
    "        ax = axes[int(i/COL_NUM), i%COL_NUM]\n",
    "        col = col.sort_values(ascending=False) # sort the data in descending order \n",
    "        col.plot(kind='barh', ax=ax)\n",
    "        ax.set_title(avg)\n",
    "\n",
    "    return plt.tight_layout()"
   ]
  },
  {
   "cell_type": "markdown",
   "metadata": {},
   "source": [
    "## Create a blueprint for all the four cities"
   ]
  },
  {
   "cell_type": "code",
   "execution_count": 19,
   "metadata": {},
   "outputs": [],
   "source": [
    "class rental:\n",
    "    def __init__(self, url, location):\n",
    "        self.location = location\n",
    "        self.url = url\n",
    "        self.dict_ = get_details(get_housings(self.url))\n",
    "    @property\n",
    "    def df(self):\n",
    "        return clean(self.dict_)\n",
    "\n",
    "    # kind should be 'bar' or 'pie'\n",
    "    def gender_preference_analysis(self, kind):\n",
    "        group = self.df.groupby('Gender_requirement')\n",
    "        size = group.size()\n",
    "        title = 'Gender requirement for rent in ' + self.location\n",
    "        if kind == 'bar':\n",
    "            plot_bar(size, title, sort = False)\n",
    "        if kind == 'pie':\n",
    "            plot_pie(size, title)\n",
    "    \n",
    "    # kind should be 'bar' or 'heatmap'\n",
    "    def size_analysis(self, kind, api_key=False):\n",
    "        if kind == 'bar':\n",
    "            group = self.df.groupby('Postal_code')\n",
    "            size = group.size()\n",
    "            title = 'the number of listings in each zip zone in ' + self.location\n",
    "            plot_bar(size, title, figsize=(24,12), sort = True)\n",
    "        if kind == 'heatmap':\n",
    "            return heatmap(self.df, self.location, 'size', api_key = api_key)\n",
    "    \n",
    "    # kind shoud be 'bar' or 'pie'\n",
    "    def furnishing_analysis(self, kind):\n",
    "        group = self.df.groupby('Furnishing')\n",
    "        size = group.size()\n",
    "        title = 'Furnishing status of housing in ' + self.location \n",
    "        if kind == 'bar':\n",
    "            plot_bar(size, title, sort = False)\n",
    "        if kind == 'pie':\n",
    "            plot_pie(size, title)\n",
    "    \n",
    "    # kind shoud be 'bar' or 'pie'\n",
    "    def room_type_analysis(self, kind):\n",
    "        group = self.df.groupby('Size')\n",
    "        size = group.size()\n",
    "        title = 'room type in ' + self.location\n",
    "        if kind == 'bar':\n",
    "            plot_bar(size, title, sort = False)\n",
    "        if kind == 'pie':\n",
    "            plot_pie(size, title, figsize=(12,12))\n",
    "    \n",
    "    # kind should be 'heatmap', 'distplot', 'group_analysis'\n",
    "    # NEED MORE ANALYSIS ABOUT PRICE\n",
    "    def price_analysis(self, kind, api_key = False):\n",
    "        if kind == 'heatmap':\n",
    "            return heatmap(self.df, self.location, 'price', api_key = api_key)\n",
    "        if kind == 'distplot':\n",
    "            return distplot(self.df, self.df['Average_price_per_month'])\n",
    "        if kind == 'group_analysis':\n",
    "            return avg_price_groups(self.df)\n",
    "    # col is one of the column in the df\n",
    "    def price_group_analysis(self, col):\n",
    "        return two_group_analysis(self.df, col)"
   ]
  },
  {
   "cell_type": "markdown",
   "metadata": {},
   "source": [
    "## Manchester"
   ]
  },
  {
   "cell_type": "code",
   "execution_count": 20,
   "metadata": {},
   "outputs": [],
   "source": [
    "url_Manchester = 'https://www.spareroom.co.uk/flatshare/?search_id=749193487&'"
   ]
  },
  {
   "cell_type": "code",
   "execution_count": 21,
   "metadata": {},
   "outputs": [],
   "source": [
    "Manchester = rental(url_Manchester, 'Manchester')"
   ]
  },
  {
   "cell_type": "code",
   "execution_count": 28,
   "metadata": {},
   "outputs": [
    {
     "ename": "ImportError",
     "evalue": "matplotlib is required for plotting.",
     "output_type": "error",
     "traceback": [
      "\u001b[0;31m---------------------------------------------------------------------------\u001b[0m",
      "\u001b[0;31mImportError\u001b[0m                               Traceback (most recent call last)",
      "\u001b[0;32m<ipython-input-28-26fa5fbae645>\u001b[0m in \u001b[0;36m<module>\u001b[0;34m\u001b[0m\n\u001b[0;32m----> 1\u001b[0;31m \u001b[0mManchester\u001b[0m\u001b[0;34m.\u001b[0m\u001b[0mgender_preference_analysis\u001b[0m\u001b[0;34m(\u001b[0m\u001b[0;34m'bar'\u001b[0m\u001b[0;34m)\u001b[0m\u001b[0;34m\u001b[0m\u001b[0m\n\u001b[0m",
      "\u001b[0;32m<ipython-input-19-080f9848f0ee>\u001b[0m in \u001b[0;36mgender_preference_analysis\u001b[0;34m(self, kind)\u001b[0m\n\u001b[1;32m     14\u001b[0m         \u001b[0mtitle\u001b[0m \u001b[0;34m=\u001b[0m \u001b[0;34m'Gender requirement for rent in '\u001b[0m \u001b[0;34m+\u001b[0m \u001b[0mself\u001b[0m\u001b[0;34m.\u001b[0m\u001b[0mlocation\u001b[0m\u001b[0;34m\u001b[0m\u001b[0m\n\u001b[1;32m     15\u001b[0m         \u001b[0;32mif\u001b[0m \u001b[0mkind\u001b[0m \u001b[0;34m==\u001b[0m \u001b[0;34m'bar'\u001b[0m\u001b[0;34m:\u001b[0m\u001b[0;34m\u001b[0m\u001b[0m\n\u001b[0;32m---> 16\u001b[0;31m             \u001b[0mplot_bar\u001b[0m\u001b[0;34m(\u001b[0m\u001b[0msize\u001b[0m\u001b[0;34m,\u001b[0m \u001b[0mtitle\u001b[0m\u001b[0;34m,\u001b[0m \u001b[0msort\u001b[0m \u001b[0;34m=\u001b[0m \u001b[0;32mFalse\u001b[0m\u001b[0;34m)\u001b[0m\u001b[0;34m\u001b[0m\u001b[0m\n\u001b[0m\u001b[1;32m     17\u001b[0m         \u001b[0;32mif\u001b[0m \u001b[0mkind\u001b[0m \u001b[0;34m==\u001b[0m \u001b[0;34m'pie'\u001b[0m\u001b[0;34m:\u001b[0m\u001b[0;34m\u001b[0m\u001b[0m\n\u001b[1;32m     18\u001b[0m             \u001b[0mplot_pie\u001b[0m\u001b[0;34m(\u001b[0m\u001b[0msize\u001b[0m\u001b[0;34m,\u001b[0m \u001b[0mtitle\u001b[0m\u001b[0;34m)\u001b[0m\u001b[0;34m\u001b[0m\u001b[0m\n",
      "\u001b[0;32m<ipython-input-13-ddc575f82420>\u001b[0m in \u001b[0;36mplot_bar\u001b[0;34m(data, title, figsize, sort)\u001b[0m\n\u001b[1;32m      4\u001b[0m         \u001b[0mdata\u001b[0m\u001b[0;34m.\u001b[0m\u001b[0msort_values\u001b[0m\u001b[0;34m(\u001b[0m\u001b[0mascending\u001b[0m\u001b[0;34m=\u001b[0m\u001b[0;32mFalse\u001b[0m\u001b[0;34m)\u001b[0m\u001b[0;34m.\u001b[0m\u001b[0mplot\u001b[0m\u001b[0;34m(\u001b[0m\u001b[0mkind\u001b[0m\u001b[0;34m=\u001b[0m\u001b[0;34m'bar'\u001b[0m\u001b[0;34m,\u001b[0m \u001b[0mtitle\u001b[0m\u001b[0;34m=\u001b[0m\u001b[0mtitle\u001b[0m\u001b[0;34m,\u001b[0m \u001b[0mfigsize\u001b[0m \u001b[0;34m=\u001b[0m \u001b[0mfigsize\u001b[0m\u001b[0;34m)\u001b[0m\u001b[0;34m\u001b[0m\u001b[0m\n\u001b[1;32m      5\u001b[0m     \u001b[0;32melse\u001b[0m\u001b[0;34m:\u001b[0m\u001b[0;34m\u001b[0m\u001b[0m\n\u001b[0;32m----> 6\u001b[0;31m         \u001b[0mdata\u001b[0m\u001b[0;34m.\u001b[0m\u001b[0mplot\u001b[0m\u001b[0;34m(\u001b[0m\u001b[0mkind\u001b[0m\u001b[0;34m=\u001b[0m\u001b[0;34m'bar'\u001b[0m\u001b[0;34m,\u001b[0m \u001b[0mtitle\u001b[0m\u001b[0;34m=\u001b[0m\u001b[0mtitle\u001b[0m\u001b[0;34m,\u001b[0m \u001b[0mfigsize\u001b[0m \u001b[0;34m=\u001b[0m \u001b[0mfigsize\u001b[0m\u001b[0;34m)\u001b[0m\u001b[0;34m\u001b[0m\u001b[0m\n\u001b[0m",
      "\u001b[0;32m/usr/local/lib/python3.6/site-packages/pandas/plotting/_core.py\u001b[0m in \u001b[0;36m__call__\u001b[0;34m(self, kind, ax, figsize, use_index, title, grid, legend, style, logx, logy, loglog, xticks, yticks, xlim, ylim, rot, fontsize, colormap, table, yerr, xerr, label, secondary_y, **kwds)\u001b[0m\n\u001b[1;32m   2739\u001b[0m                            \u001b[0mcolormap\u001b[0m\u001b[0;34m=\u001b[0m\u001b[0mcolormap\u001b[0m\u001b[0;34m,\u001b[0m \u001b[0mtable\u001b[0m\u001b[0;34m=\u001b[0m\u001b[0mtable\u001b[0m\u001b[0;34m,\u001b[0m \u001b[0myerr\u001b[0m\u001b[0;34m=\u001b[0m\u001b[0myerr\u001b[0m\u001b[0;34m,\u001b[0m\u001b[0;34m\u001b[0m\u001b[0m\n\u001b[1;32m   2740\u001b[0m                            \u001b[0mxerr\u001b[0m\u001b[0;34m=\u001b[0m\u001b[0mxerr\u001b[0m\u001b[0;34m,\u001b[0m \u001b[0mlabel\u001b[0m\u001b[0;34m=\u001b[0m\u001b[0mlabel\u001b[0m\u001b[0;34m,\u001b[0m \u001b[0msecondary_y\u001b[0m\u001b[0;34m=\u001b[0m\u001b[0msecondary_y\u001b[0m\u001b[0;34m,\u001b[0m\u001b[0;34m\u001b[0m\u001b[0m\n\u001b[0;32m-> 2741\u001b[0;31m                            **kwds)\n\u001b[0m\u001b[1;32m   2742\u001b[0m     \u001b[0m__call__\u001b[0m\u001b[0;34m.\u001b[0m\u001b[0m__doc__\u001b[0m \u001b[0;34m=\u001b[0m \u001b[0mplot_series\u001b[0m\u001b[0;34m.\u001b[0m\u001b[0m__doc__\u001b[0m\u001b[0;34m\u001b[0m\u001b[0m\n\u001b[1;32m   2743\u001b[0m \u001b[0;34m\u001b[0m\u001b[0m\n",
      "\u001b[0;32m/usr/local/lib/python3.6/site-packages/pandas/plotting/_core.py\u001b[0m in \u001b[0;36mplot_series\u001b[0;34m(data, kind, ax, figsize, use_index, title, grid, legend, style, logx, logy, loglog, xticks, yticks, xlim, ylim, rot, fontsize, colormap, table, yerr, xerr, label, secondary_y, **kwds)\u001b[0m\n\u001b[1;32m   2000\u001b[0m                  \u001b[0myerr\u001b[0m\u001b[0;34m=\u001b[0m\u001b[0myerr\u001b[0m\u001b[0;34m,\u001b[0m \u001b[0mxerr\u001b[0m\u001b[0;34m=\u001b[0m\u001b[0mxerr\u001b[0m\u001b[0;34m,\u001b[0m\u001b[0;34m\u001b[0m\u001b[0m\n\u001b[1;32m   2001\u001b[0m                  \u001b[0mlabel\u001b[0m\u001b[0;34m=\u001b[0m\u001b[0mlabel\u001b[0m\u001b[0;34m,\u001b[0m \u001b[0msecondary_y\u001b[0m\u001b[0;34m=\u001b[0m\u001b[0msecondary_y\u001b[0m\u001b[0;34m,\u001b[0m\u001b[0;34m\u001b[0m\u001b[0m\n\u001b[0;32m-> 2002\u001b[0;31m                  **kwds)\n\u001b[0m\u001b[1;32m   2003\u001b[0m \u001b[0;34m\u001b[0m\u001b[0m\n\u001b[1;32m   2004\u001b[0m \u001b[0;34m\u001b[0m\u001b[0m\n",
      "\u001b[0;32m/usr/local/lib/python3.6/site-packages/pandas/plotting/_core.py\u001b[0m in \u001b[0;36m_plot\u001b[0;34m(data, x, y, subplots, ax, kind, **kwds)\u001b[0m\n\u001b[1;32m   1800\u001b[0m                     \u001b[0mdata\u001b[0m\u001b[0;34m.\u001b[0m\u001b[0mcolumns\u001b[0m \u001b[0;34m=\u001b[0m \u001b[0mlabel_name\u001b[0m\u001b[0;34m\u001b[0m\u001b[0m\n\u001b[1;32m   1801\u001b[0m \u001b[0;34m\u001b[0m\u001b[0m\n\u001b[0;32m-> 1802\u001b[0;31m         \u001b[0mplot_obj\u001b[0m \u001b[0;34m=\u001b[0m \u001b[0mklass\u001b[0m\u001b[0;34m(\u001b[0m\u001b[0mdata\u001b[0m\u001b[0;34m,\u001b[0m \u001b[0msubplots\u001b[0m\u001b[0;34m=\u001b[0m\u001b[0msubplots\u001b[0m\u001b[0;34m,\u001b[0m \u001b[0max\u001b[0m\u001b[0;34m=\u001b[0m\u001b[0max\u001b[0m\u001b[0;34m,\u001b[0m \u001b[0mkind\u001b[0m\u001b[0;34m=\u001b[0m\u001b[0mkind\u001b[0m\u001b[0;34m,\u001b[0m \u001b[0;34m**\u001b[0m\u001b[0mkwds\u001b[0m\u001b[0;34m)\u001b[0m\u001b[0;34m\u001b[0m\u001b[0m\n\u001b[0m\u001b[1;32m   1803\u001b[0m \u001b[0;34m\u001b[0m\u001b[0m\n\u001b[1;32m   1804\u001b[0m     \u001b[0mplot_obj\u001b[0m\u001b[0;34m.\u001b[0m\u001b[0mgenerate\u001b[0m\u001b[0;34m(\u001b[0m\u001b[0;34m)\u001b[0m\u001b[0;34m\u001b[0m\u001b[0m\n",
      "\u001b[0;32m/usr/local/lib/python3.6/site-packages/pandas/plotting/_core.py\u001b[0m in \u001b[0;36m__init__\u001b[0;34m(self, data, **kwargs)\u001b[0m\n\u001b[1;32m   1180\u001b[0m \u001b[0;34m\u001b[0m\u001b[0m\n\u001b[1;32m   1181\u001b[0m         \u001b[0mself\u001b[0m\u001b[0;34m.\u001b[0m\u001b[0mlog\u001b[0m \u001b[0;34m=\u001b[0m \u001b[0mkwargs\u001b[0m\u001b[0;34m.\u001b[0m\u001b[0mpop\u001b[0m\u001b[0;34m(\u001b[0m\u001b[0;34m'log'\u001b[0m\u001b[0;34m,\u001b[0m \u001b[0;32mFalse\u001b[0m\u001b[0;34m)\u001b[0m\u001b[0;34m\u001b[0m\u001b[0m\n\u001b[0;32m-> 1182\u001b[0;31m         \u001b[0mMPLPlot\u001b[0m\u001b[0;34m.\u001b[0m\u001b[0m__init__\u001b[0m\u001b[0;34m(\u001b[0m\u001b[0mself\u001b[0m\u001b[0;34m,\u001b[0m \u001b[0mdata\u001b[0m\u001b[0;34m,\u001b[0m \u001b[0;34m**\u001b[0m\u001b[0mkwargs\u001b[0m\u001b[0;34m)\u001b[0m\u001b[0;34m\u001b[0m\u001b[0m\n\u001b[0m\u001b[1;32m   1183\u001b[0m \u001b[0;34m\u001b[0m\u001b[0m\n\u001b[1;32m   1184\u001b[0m         \u001b[0;32mif\u001b[0m \u001b[0mself\u001b[0m\u001b[0;34m.\u001b[0m\u001b[0mstacked\u001b[0m \u001b[0;32mor\u001b[0m \u001b[0mself\u001b[0m\u001b[0;34m.\u001b[0m\u001b[0msubplots\u001b[0m\u001b[0;34m:\u001b[0m\u001b[0;34m\u001b[0m\u001b[0m\n",
      "\u001b[0;32m/usr/local/lib/python3.6/site-packages/pandas/plotting/_core.py\u001b[0m in \u001b[0;36m__init__\u001b[0;34m(self, data, kind, by, subplots, sharex, sharey, use_index, figsize, grid, legend, rot, ax, fig, title, xlim, ylim, xticks, yticks, sort_columns, fontsize, secondary_y, colormap, table, layout, **kwds)\u001b[0m\n\u001b[1;32m    105\u001b[0m                  table=False, layout=None, **kwds):\n\u001b[1;32m    106\u001b[0m \u001b[0;34m\u001b[0m\u001b[0m\n\u001b[0;32m--> 107\u001b[0;31m         \u001b[0m_raise_if_no_mpl\u001b[0m\u001b[0;34m(\u001b[0m\u001b[0;34m)\u001b[0m\u001b[0;34m\u001b[0m\u001b[0m\n\u001b[0m\u001b[1;32m    108\u001b[0m         \u001b[0m_converter\u001b[0m\u001b[0;34m.\u001b[0m\u001b[0m_WARN\u001b[0m \u001b[0;34m=\u001b[0m \u001b[0;32mFalse\u001b[0m\u001b[0;34m\u001b[0m\u001b[0m\n\u001b[1;32m    109\u001b[0m         \u001b[0mself\u001b[0m\u001b[0;34m.\u001b[0m\u001b[0mdata\u001b[0m \u001b[0;34m=\u001b[0m \u001b[0mdata\u001b[0m\u001b[0;34m\u001b[0m\u001b[0m\n",
      "\u001b[0;32m/usr/local/lib/python3.6/site-packages/pandas/plotting/_core.py\u001b[0m in \u001b[0;36m_raise_if_no_mpl\u001b[0;34m()\u001b[0m\n\u001b[1;32m     55\u001b[0m     \u001b[0;31m# TODO(mpl_converter): remove once converter is explicit\u001b[0m\u001b[0;34m\u001b[0m\u001b[0;34m\u001b[0m\u001b[0m\n\u001b[1;32m     56\u001b[0m     \u001b[0;32mif\u001b[0m \u001b[0;32mnot\u001b[0m \u001b[0m_HAS_MPL\u001b[0m\u001b[0;34m:\u001b[0m\u001b[0;34m\u001b[0m\u001b[0m\n\u001b[0;32m---> 57\u001b[0;31m         \u001b[0;32mraise\u001b[0m \u001b[0mImportError\u001b[0m\u001b[0;34m(\u001b[0m\u001b[0;34m\"matplotlib is required for plotting.\"\u001b[0m\u001b[0;34m)\u001b[0m\u001b[0;34m\u001b[0m\u001b[0m\n\u001b[0m\u001b[1;32m     58\u001b[0m \u001b[0;34m\u001b[0m\u001b[0m\n\u001b[1;32m     59\u001b[0m \u001b[0;34m\u001b[0m\u001b[0m\n",
      "\u001b[0;31mImportError\u001b[0m: matplotlib is required for plotting."
     ]
    }
   ],
   "source": [
    "Manchester.gender_preference_analysis('bar')"
   ]
  },
  {
   "cell_type": "code",
   "execution_count": null,
   "metadata": {},
   "outputs": [],
   "source": [
    "Manchester.gender_preference_analysis('pie')"
   ]
  },
  {
   "cell_type": "code",
   "execution_count": null,
   "metadata": {},
   "outputs": [],
   "source": [
    "Manchester.size_analysis('bar')"
   ]
  },
  {
   "cell_type": "code",
   "execution_count": null,
   "metadata": {},
   "outputs": [],
   "source": [
    "Manchester.size_analysis('heatmap', api_key = False)"
   ]
  },
  {
   "cell_type": "code",
   "execution_count": null,
   "metadata": {},
   "outputs": [],
   "source": [
    "Manchester.furnishing_analysis('bar')"
   ]
  },
  {
   "cell_type": "code",
   "execution_count": null,
   "metadata": {},
   "outputs": [],
   "source": [
    "Manchester.furnishing_analysis('pie')"
   ]
  },
  {
   "cell_type": "code",
   "execution_count": null,
   "metadata": {},
   "outputs": [],
   "source": [
    "Manchester.room_type_analysis('bar')"
   ]
  },
  {
   "cell_type": "code",
   "execution_count": null,
   "metadata": {},
   "outputs": [],
   "source": [
    "Manchester.room_type_analysis('pie')"
   ]
  },
  {
   "cell_type": "code",
   "execution_count": null,
   "metadata": {},
   "outputs": [],
   "source": [
    "Manchester.price_analysis('heatmap', api_key = False)"
   ]
  },
  {
   "cell_type": "code",
   "execution_count": null,
   "metadata": {},
   "outputs": [],
   "source": [
    "Manchester.price_analysis('distplot')"
   ]
  },
  {
   "cell_type": "code",
   "execution_count": null,
   "metadata": {},
   "outputs": [],
   "source": [
    "Manchester.price_analysis('group_analysis')"
   ]
  },
  {
   "cell_type": "markdown",
   "metadata": {},
   "source": [
    "<h1> London"
   ]
  },
  {
   "cell_type": "code",
   "execution_count": null,
   "metadata": {},
   "outputs": [],
   "source": [
    "url_London = 'https://www.spareroom.co.uk/flatshare/?search_id=745817425&'"
   ]
  },
  {
   "cell_type": "code",
   "execution_count": null,
   "metadata": {},
   "outputs": [],
   "source": [
    "London = rental(url_London, 'London')"
   ]
  },
  {
   "cell_type": "code",
   "execution_count": null,
   "metadata": {},
   "outputs": [],
   "source": [
    "London.gender_preference_analysis('bar')"
   ]
  },
  {
   "cell_type": "code",
   "execution_count": null,
   "metadata": {},
   "outputs": [],
   "source": [
    "London.gender_preference_analysis('pie')"
   ]
  },
  {
   "cell_type": "code",
   "execution_count": null,
   "metadata": {},
   "outputs": [],
   "source": [
    "London.size_analysis('bar')"
   ]
  },
  {
   "cell_type": "code",
   "execution_count": null,
   "metadata": {},
   "outputs": [],
   "source": [
    "London.size_analysis('heatmap', api_key = False)"
   ]
  },
  {
   "cell_type": "code",
   "execution_count": null,
   "metadata": {},
   "outputs": [],
   "source": [
    "London.furnishing_analysis('bar')"
   ]
  },
  {
   "cell_type": "code",
   "execution_count": null,
   "metadata": {},
   "outputs": [],
   "source": [
    "London.furnishing_analysis('pie')"
   ]
  },
  {
   "cell_type": "code",
   "execution_count": null,
   "metadata": {},
   "outputs": [],
   "source": [
    "London.room_type_analysis('bar')"
   ]
  },
  {
   "cell_type": "code",
   "execution_count": null,
   "metadata": {},
   "outputs": [],
   "source": [
    "London.room_type_analysis('pie')"
   ]
  },
  {
   "cell_type": "code",
   "execution_count": null,
   "metadata": {},
   "outputs": [],
   "source": [
    "London.price_analysis('heatmap', api_key = False)"
   ]
  },
  {
   "cell_type": "code",
   "execution_count": null,
   "metadata": {},
   "outputs": [],
   "source": [
    "London.price_analysis('distplot')"
   ]
  },
  {
   "cell_type": "code",
   "execution_count": null,
   "metadata": {},
   "outputs": [],
   "source": [
    "London.price_analysis('group_analysis')"
   ]
  },
  {
   "cell_type": "markdown",
   "metadata": {},
   "source": [
    "<h1> Leeds"
   ]
  },
  {
   "cell_type": "code",
   "execution_count": null,
   "metadata": {},
   "outputs": [],
   "source": [
    "url_leeds = 'https://www.spareroom.co.uk/flatshare/?search_id=748742143&'"
   ]
  },
  {
   "cell_type": "code",
   "execution_count": null,
   "metadata": {},
   "outputs": [],
   "source": [
    "Leeds = rental(url_leeds, 'Leeds')"
   ]
  },
  {
   "cell_type": "code",
   "execution_count": null,
   "metadata": {},
   "outputs": [],
   "source": [
    "Leeds.gender_preference_analysis('bar')"
   ]
  },
  {
   "cell_type": "code",
   "execution_count": null,
   "metadata": {},
   "outputs": [],
   "source": [
    "Leeds.gender_preference_analysis('pie')"
   ]
  },
  {
   "cell_type": "code",
   "execution_count": null,
   "metadata": {},
   "outputs": [],
   "source": [
    "Leeds.size_analysis('bar')"
   ]
  },
  {
   "cell_type": "code",
   "execution_count": null,
   "metadata": {},
   "outputs": [],
   "source": [
    "Leeds.size_analysis('heatmap', api_key = False)"
   ]
  },
  {
   "cell_type": "code",
   "execution_count": null,
   "metadata": {},
   "outputs": [],
   "source": [
    "Leeds.furnishing_analysis('bar')"
   ]
  },
  {
   "cell_type": "code",
   "execution_count": null,
   "metadata": {},
   "outputs": [],
   "source": [
    "Leeds.furnishing_analysis('pie')"
   ]
  },
  {
   "cell_type": "code",
   "execution_count": null,
   "metadata": {},
   "outputs": [],
   "source": [
    "Leeds.room_type_analysis('bar')"
   ]
  },
  {
   "cell_type": "code",
   "execution_count": null,
   "metadata": {},
   "outputs": [],
   "source": [
    "Leeds.room_type_analysis('pie')"
   ]
  },
  {
   "cell_type": "code",
   "execution_count": null,
   "metadata": {},
   "outputs": [],
   "source": [
    "Leeds.price_analysis('heatmap', api_key = False)"
   ]
  },
  {
   "cell_type": "code",
   "execution_count": null,
   "metadata": {},
   "outputs": [],
   "source": [
    "Leeds.price_analysis('distplot')"
   ]
  },
  {
   "cell_type": "code",
   "execution_count": null,
   "metadata": {},
   "outputs": [],
   "source": [
    "Leeds.price_analysis('group_analysis')"
   ]
  },
  {
   "cell_type": "markdown",
   "metadata": {},
   "source": [
    "<h1> Liverpool"
   ]
  },
  {
   "cell_type": "code",
   "execution_count": null,
   "metadata": {},
   "outputs": [],
   "source": [
    "url_liver = 'https://www.spareroom.co.uk/flatshare/?search_id=746073457&'"
   ]
  },
  {
   "cell_type": "code",
   "execution_count": null,
   "metadata": {},
   "outputs": [],
   "source": [
    "Liverpool = rental(url_liver, 'Liverpool')"
   ]
  },
  {
   "cell_type": "code",
   "execution_count": null,
   "metadata": {},
   "outputs": [],
   "source": [
    "Liverpool.gender_preference_analysis('bar')"
   ]
  },
  {
   "cell_type": "code",
   "execution_count": null,
   "metadata": {},
   "outputs": [],
   "source": [
    "Liverpool.gender_preference_analysis('pie')"
   ]
  },
  {
   "cell_type": "code",
   "execution_count": null,
   "metadata": {},
   "outputs": [],
   "source": [
    "Liverpool.size_analysis('bar')"
   ]
  },
  {
   "cell_type": "code",
   "execution_count": null,
   "metadata": {},
   "outputs": [],
   "source": [
    "Liverpool.size_analysis('heatmap', api_key = False)"
   ]
  },
  {
   "cell_type": "code",
   "execution_count": null,
   "metadata": {},
   "outputs": [],
   "source": [
    "Liverpool.furnishing_analysis('bar')"
   ]
  },
  {
   "cell_type": "code",
   "execution_count": null,
   "metadata": {},
   "outputs": [],
   "source": [
    "Liverpool.furnishing_analysis('pie')"
   ]
  },
  {
   "cell_type": "code",
   "execution_count": null,
   "metadata": {},
   "outputs": [],
   "source": [
    "Liverpool.room_type_analysis('bar')"
   ]
  },
  {
   "cell_type": "code",
   "execution_count": null,
   "metadata": {},
   "outputs": [],
   "source": [
    "Liverpool.room_type_analysis('pie')"
   ]
  },
  {
   "cell_type": "code",
   "execution_count": null,
   "metadata": {},
   "outputs": [],
   "source": [
    "Liverpool.price_analysis('heatmap', api_key = False)"
   ]
  },
  {
   "cell_type": "code",
   "execution_count": null,
   "metadata": {},
   "outputs": [],
   "source": [
    "Liverpool.price_analysis('distplot')"
   ]
  },
  {
   "cell_type": "code",
   "execution_count": null,
   "metadata": {},
   "outputs": [],
   "source": [
    "Liverpool.price_analysis('group_analysis')"
   ]
  },
  {
   "cell_type": "markdown",
   "metadata": {},
   "source": [
    "<h2>Further analysis"
   ]
  },
  {
   "cell_type": "code",
   "execution_count": null,
   "metadata": {},
   "outputs": [],
   "source": [
    "london_df = pd.read_csv('London.csv')\n",
    "manchester_df = pd.read_csv('Manchester.csv')\n",
    "leeds_df = pd.read_csv('Leeds.csv')\n",
    "liverpool_df = pd.read_csv('Liverpool.csv')\n",
    "london_df['Region'] = 'London'\n",
    "manchester_df['Region'] = 'Manchester'\n",
    "leeds_df['Region'] = 'Leeds'\n",
    "liverpool_df['Region'] = 'Liverpool'"
   ]
  },
  {
   "cell_type": "code",
   "execution_count": null,
   "metadata": {},
   "outputs": [],
   "source": [
    "# Append all four dataframe into one to do more analysis\n",
    "all_four_df = london_df.append(manchester_df).append(leeds_df).append(liverpool_df)\n",
    "all_four_df = all_four_df.reset_index()\n",
    "# Read population from official census file\n",
    "population = pd.read_csv('pop_by_zip.csv')\n",
    "population.set_index('Postcode Districts', inplace=True)\n",
    "# add population info to all_four_df\n",
    "popu_list = list()\n",
    "for item in all_four_df.index:\n",
    "    if all_four_df.iloc[item]['Postal_code'] in population.index:\n",
    "        popu_list.append(population.loc[all_four_df.iloc[item]['Postal_code']]['2011'])\n",
    "    else:\n",
    "        popu_list.append('No info')\n",
    "all_four_df['Population_in_this_region'] = popu_list\n",
    "# Clean the new dataframe \n",
    "# Drop meaningless columns\n",
    "all_four_df = all_four_df.drop(columns=['index','Unnamed: 0'])\n",
    "# Delete comma in the column\n",
    "all_four_df['Population_in_this_region'] = [item.replace(',', '') for item in all_four_df['Population_in_this_region']]\n",
    "# Round up to 1 decimal\n",
    "all_four_df['Average_price_per_month'] = [float(f\"{all_four_df.iloc[i]['Average_price_per_month']:.2}\") for i in all_four_df.index]"
   ]
  },
  {
   "cell_type": "code",
   "execution_count": null,
   "metadata": {},
   "outputs": [],
   "source": [
    "price_df_zip = all_four_df.groupby('Postal_code').mean()"
   ]
  },
  {
   "cell_type": "markdown",
   "metadata": {},
   "source": [
    "<h3>Draw a scatter plot between population and rental price\n"
   ]
  },
  {
   "cell_type": "code",
   "execution_count": null,
   "metadata": {},
   "outputs": [],
   "source": [
    "# Draw a scatter plot between population and rental price\n",
    "list_popu_analysis = [(price_df_zip.loc[item]['Average_price_per_month'], population.loc[item]['2011'])\n",
    "    for item in price_df_zip.index if item in population.index]\n",
    "\n",
    "fig = plt.figure()\n",
    "ax1 = fig.add_subplot(111)\n",
    "\n",
    "# Set title\n",
    "ax1.set_title('Relationship between Average rental price and population in each postcode area')\n",
    "# Set x label \n",
    "plt.xlabel('Population')\n",
    "# Set x label\n",
    "plt.ylabel('Average price')\n",
    "ax1.scatter(x=[item[1] for item in list_popu_analysis], y=[item[0] for item in list_popu_analysis])\n",
    "# Show the graph\n",
    "plt.show()"
   ]
  },
  {
   "cell_type": "markdown",
   "metadata": {},
   "source": [
    "<h3> Draw a scatter plot between Selling price and rental price\n"
   ]
  },
  {
   "cell_type": "code",
   "execution_count": null,
   "metadata": {},
   "outputs": [],
   "source": [
    "# Selling price and rental price\n",
    "buy_price_df = pd.read_csv('pp-monthly-update-new-version.csv')\n",
    "buy_price_df = buy_price_df.dropna()"
   ]
  },
  {
   "cell_type": "code",
   "execution_count": null,
   "metadata": {},
   "outputs": [],
   "source": [
    "buy_price_df\n",
    "# clean the postcode to select the first part\n",
    "pattern = r'[A-Z0-9]+'\n",
    "postcode = [re.match(pattern, item).group() for item in buy_price_df['Postcode']]"
   ]
  },
  {
   "cell_type": "code",
   "execution_count": null,
   "metadata": {},
   "outputs": [],
   "source": [
    "buy_price_df['Postcode_clean'] = postcode"
   ]
  },
  {
   "cell_type": "code",
   "execution_count": null,
   "metadata": {},
   "outputs": [],
   "source": [
    "# groupby cleaned postcode \n",
    "buy_price_df = buy_price_df.groupby('Postcode_clean').mean()"
   ]
  },
  {
   "cell_type": "code",
   "execution_count": null,
   "metadata": {},
   "outputs": [],
   "source": [
    "# draw the relationship btw buy price and rental price with the same postcode\n",
    "list_buy_analysis = [(price_df_zip.loc[item]['Average_price_per_month'], buy_price_df.loc[item]['Price'])\n",
    "    for item in price_df_zip.index if item in buy_price_df.index]\n",
    "\n",
    "fig = plt.figure()\n",
    "ax1 = fig.add_subplot(111)\n",
    "\n",
    "# Set title\n",
    "ax1.set_title('Relationship between average rental price and average selling price in each postcode area')\n",
    "# Set x label \n",
    "plt.xlabel('Selling Price')\n",
    "# Set x label\n",
    "plt.ylabel('Rental Price')\n",
    "ax1.scatter(x=[item[1] for item in list_buy_analysis], y=[int(item[0]) for item in list_buy_analysis])\n",
    "# Show the graph\n",
    "plt.show()"
   ]
  },
  {
   "cell_type": "markdown",
   "metadata": {},
   "source": [
    "Here we can see from the two graph above that there is a positive relationship between selling price and rental price, and there is also a positive relationship between population in the area and the rental price"
   ]
  },
  {
   "cell_type": "code",
   "execution_count": null,
   "metadata": {},
   "outputs": [],
   "source": []
  }
 ],
 "metadata": {
  "kernelspec": {
   "display_name": "Python 3",
   "language": "python",
   "name": "python3"
  },
  "language_info": {
   "codemirror_mode": {
    "name": "ipython",
    "version": 3
   },
   "file_extension": ".py",
   "mimetype": "text/x-python",
   "name": "python",
   "nbconvert_exporter": "python",
   "pygments_lexer": "ipython3",
   "version": "3.6.3"
  }
 },
 "nbformat": 4,
 "nbformat_minor": 2
}
